{
 "cells": [
  {
   "cell_type": "code",
   "execution_count": 3,
   "id": "a89abe19-8430-4fd1-a10a-7db887551dd8",
   "metadata": {},
   "outputs": [],
   "source": [
    "import pandas as pd\n",
    "from scipy.stats import ttest_ind\n",
    "\n",
    "# Veri seti\n",
    "df = pd.read_csv('../data/processed/merged_analysis.csv', parse_dates=['Week'])\n",
    "\n"
   ]
  },
  {
   "cell_type": "code",
   "execution_count": 4,
   "id": "d502e3d5-bf60-4c71-8f74-e0c8ecb9df19",
   "metadata": {},
   "outputs": [],
   "source": [
    "## Hypothesis\n",
    "\n",
    "##Null Hypothesis (H₀):
##Political event intensity and Google search trends have no statistically significant effect on economic indicators (USD/TRY exchange rate, interest rates, and gold prices).\n",
    "\n",
    "##Alternative Hypothesis (H₁):
Political event intensity and/or Google search trends have a statistically significant effect on at least one of the economic indicators (USD/TRY exchange rate, interest rates, or gold prices).\n"
   ]
  },
  {
   "cell_type": "code",
   "execution_count": 5,
   "id": "0348ae1a-452b-4460-ae7a-ab38cf6e7eb0",
   "metadata": {},
   "outputs": [
    {
     "name": "stdout",
     "output_type": "stream",
     "text": [
      "Number of low-event weeks: 98\n",
      "Number of high-event weeks 52\n",
      "\n",
      "T statistic: -5.50\n",
      "P-value: 0.0000\n",
      "✅ The difference is significant → The hypothesis is supported.\n"
     ]
    }
   ],
   "source": [
    "from scipy.stats import ttest_ind\n",
    "\n",
    "# DÜŞÜK OLAYLI: 1 veya 2 olay\n",
    "dusuk = df[df['Event_Count'] <= 2]['USD_TRY'].dropna()\n",
    "\n",
    "# YÜKSEK OLAYLI: 5 veya daha fazla olay\n",
    "yuksek = df[df['Event_Count'] >= 5]['USD_TRY'].dropna()\n",
    "\n",
    "print(\"Number of low-event weeks:\", len(dusuk))\n",
    "print(\"Number of high-event weeks\", len(yuksek))\n",
    "\n",
    "# t-test uygulama\n",
    "t_stat, p_val = ttest_ind(dusuk, yuksek, equal_var=False)\n",
    "\n",
    "print(f\"\\nT statistic: {t_stat:.2f}\")\n",
    "print(f\"P-value: {p_val:.4f}\")\n",
    "\n",
    "if p_val < 0.05:\n",
    "    print(\"✅ The difference is significant → The hypothesis is supported.\")\n",
    "else:\n",
    "    print(\"❌ The difference is not significant → The hypothesis is not supported.\")\n"
   ]
  },
  {
   "cell_type": "code",
   "execution_count": 6,
   "id": "3b8f5873-958a-4b41-b039-082115d991b3",
   "metadata": {},
   "outputs": [
    {
     "name": "stdout",
     "output_type": "stream",
     "text": [
      "Number of low-event weeks (gold): 19\n",
      "Number of high-event weeks (gold): 11\n",
      "\n",
      "T- value: -2.70\n",
      "P-value: 0.0159\n",
      "✅ The difference is significant → The hypothesis is supported.\n"
     ]
    }
   ],
   "source": [
    "from scipy.stats import ttest_ind\n",
    "\n",
    "# Sütun adlarını normalize et\n",
    "df.columns = df.columns.str.strip().str.upper()\n",
    "\n",
    "# FIYAT boş olmayanları filtrele\n",
    "df = df[df['FİYAT'].notna()]\n",
    "\n",
    "# Grupları oluştur\n",
    "dusuk_altin = df[df['EVENT_COUNT'] <= 2]['FİYAT']\n",
    "yuksek_altin = df[df['EVENT_COUNT'] >= 5]['FİYAT']\n",
    "\n",
    "# Sayıları kontrol et\n",
    "print(\"Number of low-event weeks (gold):\", len(dusuk_altin))\n",
    "print(\"Number of high-event weeks (gold):\", len(yuksek_altin))\n",
    "\n",
    "# T-Test\n",
    "t_stat_altin, p_val_altin = ttest_ind(dusuk_altin, yuksek_altin, equal_var=False)\n",
    "\n",
    "print(f\"\\nT- value: {t_stat_altin:.2f}\")\n",
    "print(f\"P-value: {p_val_altin:.4f}\")\n",
    "\n",
    "if p_val_altin < 0.05:\n",
    "    print(\"✅ The difference is significant → The hypothesis is supported.\")\n",
    "else:\n",
    "    print(\"❌ The difference is not significant → The hypothesis is not supported.\")\n"
   ]
  },
  {
   "cell_type": "code",
   "execution_count": 7,
   "id": "059b9cff-642e-4c91-b539-9bd0e9b1668c",
   "metadata": {},
   "outputs": [
    {
     "name": "stdout",
     "output_type": "stream",
     "text": [
      "                            OLS Regression Results                            \n",
      "==============================================================================\n",
      "Dep. Variable:                USD_TRY   R-squared:                       0.633\n",
      "Model:                            OLS   Adj. R-squared:                  0.562\n",
      "Method:                 Least Squares   F-statistic:                     8.906\n",
      "Date:                Fri, 25 Apr 2025   Prob (F-statistic):           1.12e-05\n",
      "Time:                        11:38:57   Log-Likelihood:                -125.11\n",
      "No. Observations:                  38   AIC:                             264.2\n",
      "Df Residuals:                      31   BIC:                             275.7\n",
      "Df Model:                           6                                         \n",
      "Covariance Type:            nonrobust                                         \n",
      "===========================================================================================\n",
      "                              coef    std err          t      P>|t|      [0.025      0.975]\n",
      "-------------------------------------------------------------------------------------------\n",
      "const                      12.5104      4.614      2.711      0.011       3.100      21.921\n",
      "EVENT_COUNT                 0.6534      0.194      3.376      0.002       0.259       1.048\n",
      "ALTIN FIYATI: (TÜRKIYE)     1.2961      0.302      4.291      0.000       0.680       1.912\n",
      "SEÇIM: (TÜRKIYE)            0.0098      0.052      0.189      0.852      -0.096       0.115\n",
      "SIYASI: (TÜRKIYE)          -7.7127      4.297     -1.795      0.082     -16.477       1.051\n",
      "DOLAR KURU: (TÜRKIYE)      -0.7649      0.130     -5.903      0.000      -1.029      -0.501\n",
      "ZAM: (TÜRKIYE)              0.6977      0.402      1.734      0.093      -0.123       1.519\n",
      "==============================================================================\n",
      "Omnibus:                        3.685   Durbin-Watson:                   1.011\n",
      "Prob(Omnibus):                  0.158   Jarque-Bera (JB):                1.737\n",
      "Skew:                           0.163   Prob(JB):                        0.420\n",
      "Kurtosis:                       2.004   Cond. No.                         157.\n",
      "==============================================================================\n",
      "\n",
      "Notes:\n",
      "[1] Standard Errors assume that the covariance matrix of the errors is correctly specified.\n"
     ]
    }
   ],
   "source": [
    "import pandas as pd\n",
    "import statsmodels.api as sm\n",
    "\n",
    "# Sütunları normalize et\n",
    "df.columns = df.columns.str.strip().str.upper()\n",
    "\n",
    "# Google Trends sütonlarını eşleştir\n",
    "trend_cols = [\n",
    "    'ALTIN FIYATI: (TÜRKIYE)',\n",
    "       'SEÇIM: (TÜRKIYE)', 'SIYASI: (TÜRKIYE)', 'DOLAR KURU: (TÜRKIYE)',\n",
    "       'ZAM: (TÜRKIYE)'\n",
    "]\n",
    "\n",
    "# Tüm değişkenleri seç\n",
    "selected_cols = ['EVENT_COUNT'] + trend_cols + ['USD_TRY']\n",
    "\n",
    "# Geçerli satırları al \n",
    "df_model = df[selected_cols].dropna()\n",
    "\n",
    "# Bağımsız (X) ve bağımlı (y) değişkenler\n",
    "X = df_model[['EVENT_COUNT'] + trend_cols]\n",
    "y = df_model['USD_TRY']\n",
    "\n",
    "# Sabit ekle\n",
    "X = sm.add_constant(X)\n",
    "\n",
    "# Modeli oluştur ve eğit\n",
    "model = sm.OLS(y, X).fit()\n",
    "\n",
    "# Model özeti\n",
    "print(model.summary())\n"
   ]
  },
  {
   "cell_type": "code",
   "execution_count": 8,
   "id": "042a2055-77b3-4f4f-93b0-f64754285503",
   "metadata": {},
   "outputs": [
    {
     "name": "stdout",
     "output_type": "stream",
     "text": [
      "                            OLS Regression Results                            \n",
      "==============================================================================\n",
      "Dep. Variable:                  FİYAT   R-squared:                       0.626\n",
      "Model:                            OLS   Adj. R-squared:                  0.554\n",
      "Method:                 Least Squares   F-statistic:                     8.656\n",
      "Date:                Fri, 25 Apr 2025   Prob (F-statistic):           1.44e-05\n",
      "Time:                        11:38:57   Log-Likelihood:                -296.02\n",
      "No. Observations:                  38   AIC:                             606.0\n",
      "Df Residuals:                      31   BIC:                             617.5\n",
      "Df Model:                           6                                         \n",
      "Covariance Type:            nonrobust                                         \n",
      "===========================================================================================\n",
      "                              coef    std err          t      P>|t|      [0.025      0.975]\n",
      "-------------------------------------------------------------------------------------------\n",
      "const                     865.7034    414.469      2.089      0.045      20.388    1711.019\n",
      "EVENT_COUNT                66.9303     17.387      3.849      0.001      31.469     102.392\n",
      "ALTIN FIYATI: (TÜRKIYE)   112.6461     27.129      4.152      0.000      57.316     167.976\n",
      "SEÇIM: (TÜRKIYE)            0.5010      4.642      0.108      0.915      -8.967       9.969\n",
      "SIYASI: (TÜRKIYE)        -663.7971    385.974     -1.720      0.095   -1450.996     123.402\n",
      "DOLAR KURU: (TÜRKIYE)     -66.0778     11.640     -5.677      0.000     -89.817     -42.339\n",
      "ZAM: (TÜRKIYE)             36.9465     36.153      1.022      0.315     -36.788     110.681\n",
      "==============================================================================\n",
      "Omnibus:                        2.211   Durbin-Watson:                   0.957\n",
      "Prob(Omnibus):                  0.331   Jarque-Bera (JB):                1.892\n",
      "Skew:                           0.536   Prob(JB):                        0.388\n",
      "Kurtosis:                       2.786   Cond. No.                         157.\n",
      "==============================================================================\n",
      "\n",
      "Notes:\n",
      "[1] Standard Errors assume that the covariance matrix of the errors is correctly specified.\n"
     ]
    }
   ],
   "source": [
    "import statsmodels.api as sm\n",
    "\n",
    "\n",
    "df.columns = df.columns.str.strip().str.upper()\n",
    "\n",
    "# Google Trends \n",
    "trend_cols = [\n",
    "    'ALTIN FIYATI: (TÜRKIYE)',\n",
    "       'SEÇIM: (TÜRKIYE)', 'SIYASI: (TÜRKIYE)', 'DOLAR KURU: (TÜRKIYE)',\n",
    "       'ZAM: (TÜRKIYE)'\n",
    "]\n",
    "\n",
    "# Kullanılacak sütunlar\n",
    "selected_cols = ['EVENT_COUNT'] + trend_cols + ['FİYAT']\n",
    "\n",
    "# Geçerli verileri al (NaN varsa düş)\n",
    "df_model = df[selected_cols].dropna()\n",
    "\n",
    "# X ve y ayır\n",
    "X = df_model[['EVENT_COUNT'] + trend_cols]\n",
    "y = df_model['FİYAT']\n",
    "\n",
    "# Sabit ekle\n",
    "X = sm.add_constant(X)\n",
    "\n",
    "# Modeli kur ve eğit\n",
    "model = sm.OLS(y, X).fit()\n",
    "\n",
    "# Sonuç özeti\n",
    "print(model.summary())\n"
   ]
  },
  {
   "cell_type": "code",
   "execution_count": 9,
   "id": "2fd6152d-d24c-431a-81ca-6378dd7521f9",
   "metadata": {},
   "outputs": [],
   "source": [
    "### 🎯 Hypothesis Test Result Summary\n",
    "\n",
    "##- USD/TRY T-Test: p = 0.0001 → Political events significantly affect USD/TRY exchange rates.\n",
    "##- Gold Price T-Test: p = 0.0159 → Political events significantly affect gold prices.\n",
    "##- ✅ Both hypotheses are supported by statistical evidence.\n",
    "\n",
    "\n",
    "### 📊 Regression Analysis Summary\n",
    "\n",
    "##- USD/TRY Model R² = 0.63** → Explained by political events and Google searches (notably \"altın fiyatı\").\n",
    "##- Gold Price Model R² = 0.62** → Strong impact from event count and Google Trends for “altın fiyatı”.\n"
   ]
  },
  {
   "cell_type": "code",
   "execution_count": null,
   "id": "27f3e153-343b-408f-90a0-b9f461d4124c",
   "metadata": {},
   "outputs": [],
   "source": []
  }
 ],
 "metadata": {
  "kernelspec": {
   "display_name": "Python (venv)",
   "language": "python",
   "name": "venv"
  },
  "language_info": {
   "codemirror_mode": {
    "name": "ipython",
    "version": 3
   },
   "file_extension": ".py",
   "mimetype": "text/x-python",
   "name": "python",
   "nbconvert_exporter": "python",
   "pygments_lexer": "ipython3",
   "version": "3.13.3"
  }
 },
 "nbformat": 4,
 "nbformat_minor": 5
}
